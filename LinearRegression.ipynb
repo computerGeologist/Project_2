{
 "cells": [
  {
   "cell_type": "code",
   "execution_count": 1,
   "metadata": {},
   "outputs": [],
   "source": [
    "import pandas as pd\n",
    "import numpy as np\n",
    "from bs4 import BeautifulSoup\n",
    "import requests\n",
    "import pickle\n",
    "import matplotlib.pyplot as plt\n",
    "import scipy.stats as scp\n",
    "import seaborn as sns\n"
   ]
  },
  {
   "cell_type": "code",
   "execution_count": 8,
   "metadata": {},
   "outputs": [
    {
     "data": {
      "text/html": [
       "<div>\n",
       "<style scoped>\n",
       "    .dataframe tbody tr th:only-of-type {\n",
       "        vertical-align: middle;\n",
       "    }\n",
       "\n",
       "    .dataframe tbody tr th {\n",
       "        vertical-align: top;\n",
       "    }\n",
       "\n",
       "    .dataframe thead th {\n",
       "        text-align: right;\n",
       "    }\n",
       "</style>\n",
       "<table border=\"1\" class=\"dataframe\">\n",
       "  <thead>\n",
       "    <tr style=\"text-align: right;\">\n",
       "      <th></th>\n",
       "      <th>index_name</th>\n",
       "      <th>Release Date</th>\n",
       "      <th>Metacritic Critic Score</th>\n",
       "      <th>Director</th>\n",
       "      <th>Cast</th>\n",
       "      <th>IMDB's Budget</th>\n",
       "    </tr>\n",
       "  </thead>\n",
       "  <tbody>\n",
       "    <tr>\n",
       "      <th>0</th>\n",
       "      <td>Guardians of the Galaxy</td>\n",
       "      <td>None</td>\n",
       "      <td>76.0</td>\n",
       "      <td>James Gunn</td>\n",
       "      <td>[\\n Chris Pratt\\n , \\n Zoe Saldana\\n , \\n Dave...</td>\n",
       "      <td>\\nBudget:$170,000,000\\n            (estimated)\\n</td>\n",
       "    </tr>\n",
       "    <tr>\n",
       "      <th>1</th>\n",
       "      <td>The Hobbit: The Battle of the Five Armies</td>\n",
       "      <td>None</td>\n",
       "      <td>59.0</td>\n",
       "      <td>Peter Jackson</td>\n",
       "      <td>[\\n Ian McKellen\\n , \\n Martin Freeman\\n , \\n ...</td>\n",
       "      <td>\\nBudget:$250,000,000\\n            (estimated)\\n</td>\n",
       "    </tr>\n",
       "    <tr>\n",
       "      <th>2</th>\n",
       "      <td>Transformers: Age of Extinction</td>\n",
       "      <td>None</td>\n",
       "      <td>32.0</td>\n",
       "      <td>Michael Bay</td>\n",
       "      <td>[\\n Mark Wahlberg\\n , \\n Stanley Tucci\\n , \\n ...</td>\n",
       "      <td>\\nBudget:$210,000,000\\n            (estimated)\\n</td>\n",
       "    </tr>\n",
       "    <tr>\n",
       "      <th>3</th>\n",
       "      <td>Maleficent</td>\n",
       "      <td>None</td>\n",
       "      <td>56.0</td>\n",
       "      <td>Robert Stromberg</td>\n",
       "      <td>[\\n Angelina Jolie\\n , \\n Elle Fanning\\n , \\n ...</td>\n",
       "      <td>\\nBudget:$180,000,000\\n            (estimated)\\n</td>\n",
       "    </tr>\n",
       "    <tr>\n",
       "      <th>4</th>\n",
       "      <td>X-Men: Days of Future Past</td>\n",
       "      <td>None</td>\n",
       "      <td>75.0</td>\n",
       "      <td>Bryan Singer</td>\n",
       "      <td>[\\n Hugh Jackman\\n , \\n James McAvoy\\n , \\n Mi...</td>\n",
       "      <td>\\nBudget:$200,000,000\\n            (estimated)\\n</td>\n",
       "    </tr>\n",
       "    <tr>\n",
       "      <th>...</th>\n",
       "      <td>...</td>\n",
       "      <td>...</td>\n",
       "      <td>...</td>\n",
       "      <td>...</td>\n",
       "      <td>...</td>\n",
       "      <td>...</td>\n",
       "    </tr>\n",
       "    <tr>\n",
       "      <th>2524</th>\n",
       "      <td>Joan the Maid 1: The Battles</td>\n",
       "      <td>None</td>\n",
       "      <td>52.0</td>\n",
       "      <td>Felix Randau</td>\n",
       "      <td>None</td>\n",
       "      <td>None</td>\n",
       "    </tr>\n",
       "    <tr>\n",
       "      <th>2525</th>\n",
       "      <td>TINY: The Life of Erin Blackwell</td>\n",
       "      <td>None</td>\n",
       "      <td>NaN</td>\n",
       "      <td>François Margolin</td>\n",
       "      <td>[\\n Oumar Ould Hamaha\\n , \\n François Margolin...</td>\n",
       "      <td>None</td>\n",
       "    </tr>\n",
       "    <tr>\n",
       "      <th>2526</th>\n",
       "      <td>I Lost Albert2019 Re-release</td>\n",
       "      <td>None</td>\n",
       "      <td>NaN</td>\n",
       "      <td>Joan Micklin Silver</td>\n",
       "      <td>[\\n Jerry Stiller\\n , \\n Anne Meara\\n , \\n Mar...</td>\n",
       "      <td>None</td>\n",
       "    </tr>\n",
       "    <tr>\n",
       "      <th>2527</th>\n",
       "      <td>In Safe Hands</td>\n",
       "      <td>None</td>\n",
       "      <td>NaN</td>\n",
       "      <td>Christopher Munch</td>\n",
       "      <td>[\\n David Angus\\n , \\n Ian Hart\\n , \\n Stephan...</td>\n",
       "      <td>None</td>\n",
       "    </tr>\n",
       "    <tr>\n",
       "      <th>2528</th>\n",
       "      <td>Little Q</td>\n",
       "      <td>None</td>\n",
       "      <td>NaN</td>\n",
       "      <td>Arnaud Bouron</td>\n",
       "      <td>[\\n Virginie Efira\\n , \\n Kev Adams\\n , \\n Emm...</td>\n",
       "      <td>None</td>\n",
       "    </tr>\n",
       "  </tbody>\n",
       "</table>\n",
       "<p>2529 rows × 6 columns</p>\n",
       "</div>"
      ],
      "text/plain": [
       "                                     index_name Release Date  \\\n",
       "0                       Guardians of the Galaxy         None   \n",
       "1     The Hobbit: The Battle of the Five Armies         None   \n",
       "2               Transformers: Age of Extinction         None   \n",
       "3                                    Maleficent         None   \n",
       "4                    X-Men: Days of Future Past         None   \n",
       "...                                         ...          ...   \n",
       "2524               Joan the Maid 1: The Battles         None   \n",
       "2525           TINY: The Life of Erin Blackwell         None   \n",
       "2526               I Lost Albert2019 Re-release         None   \n",
       "2527                              In Safe Hands         None   \n",
       "2528                                   Little Q         None   \n",
       "\n",
       "      Metacritic Critic Score             Director  \\\n",
       "0                        76.0           James Gunn   \n",
       "1                        59.0        Peter Jackson   \n",
       "2                        32.0          Michael Bay   \n",
       "3                        56.0     Robert Stromberg   \n",
       "4                        75.0         Bryan Singer   \n",
       "...                       ...                  ...   \n",
       "2524                     52.0         Felix Randau   \n",
       "2525                      NaN    François Margolin   \n",
       "2526                      NaN  Joan Micklin Silver   \n",
       "2527                      NaN    Christopher Munch   \n",
       "2528                      NaN        Arnaud Bouron   \n",
       "\n",
       "                                                   Cast  \\\n",
       "0     [\\n Chris Pratt\\n , \\n Zoe Saldana\\n , \\n Dave...   \n",
       "1     [\\n Ian McKellen\\n , \\n Martin Freeman\\n , \\n ...   \n",
       "2     [\\n Mark Wahlberg\\n , \\n Stanley Tucci\\n , \\n ...   \n",
       "3     [\\n Angelina Jolie\\n , \\n Elle Fanning\\n , \\n ...   \n",
       "4     [\\n Hugh Jackman\\n , \\n James McAvoy\\n , \\n Mi...   \n",
       "...                                                 ...   \n",
       "2524                                               None   \n",
       "2525  [\\n Oumar Ould Hamaha\\n , \\n François Margolin...   \n",
       "2526  [\\n Jerry Stiller\\n , \\n Anne Meara\\n , \\n Mar...   \n",
       "2527  [\\n David Angus\\n , \\n Ian Hart\\n , \\n Stephan...   \n",
       "2528  [\\n Virginie Efira\\n , \\n Kev Adams\\n , \\n Emm...   \n",
       "\n",
       "                                         IMDB's Budget  \n",
       "0     \\nBudget:$170,000,000\\n            (estimated)\\n  \n",
       "1     \\nBudget:$250,000,000\\n            (estimated)\\n  \n",
       "2     \\nBudget:$210,000,000\\n            (estimated)\\n  \n",
       "3     \\nBudget:$180,000,000\\n            (estimated)\\n  \n",
       "4     \\nBudget:$200,000,000\\n            (estimated)\\n  \n",
       "...                                                ...  \n",
       "2524                                              None  \n",
       "2525                                              None  \n",
       "2526                                              None  \n",
       "2527                                              None  \n",
       "2528                                              None  \n",
       "\n",
       "[2529 rows x 6 columns]"
      ]
     },
     "execution_count": 8,
     "metadata": {},
     "output_type": "execute_result"
    }
   ],
   "source": [
    "weeklies, movielibrary, imdb = pickle.load(open(\"Processed_data.p\", \"rb\"))\n",
    "imdb"
   ]
  },
  {
   "cell_type": "code",
   "execution_count": 9,
   "metadata": {},
   "outputs": [],
   "source": [
    "names = set(movielibrary[\"index_name\"])\n",
    "weekly_names = set(weeklies[\"index_name\"])"
   ]
  },
  {
   "cell_type": "code",
   "execution_count": 13,
   "metadata": {},
   "outputs": [],
   "source": [
    "def weeks_above_cutoff(cutoff, df, min_weeks):\n",
    "    \"\"\"\n",
    "    Identifies the target variable, \"number of weeks for which the average box office was above a target variable.\"\n",
    "    Screens out movies for which there are less than min_weeks of data.\n",
    "    \n",
    "    \"\"\"\n",
    "    compiled_weeklies = []\n",
    "    for name in set(df[\"index_name\"]):\n",
    "        movie_df = df[df[\"index_name\"]==name]\n",
    "        if(movie_df[\"Avg\"].count()>=min_weeks):\n",
    "            fake_name = name\n",
    "\n",
    "\n",
    "            real_name = movie_df[\"Name\"].iloc[0]\n",
    "            \n",
    "            #Added 1 to allow boxcox to function if the movie never was above the cutoff in any week.\n",
    "            num_above_cutoff = (movie_df[\"Avg\"]>cutoff).sum()\n",
    "\n",
    "            first_week = movie_df[\"Week\"].min()\n",
    "                                \n",
    "#             first_week = movie_df[\"Week\"].min()\n",
    "            \n",
    "#             num_above_cutoff = movie_df[movie_df[\"Avg\"]>cutoff].Week.max() - first_week\n",
    "    \n",
    "\n",
    "            first_two_weeks = movie_df[movie_df[\"Week\"]<=1+first_week]\n",
    "            theaters_in_two_weeks = first_two_weeks[\"Theaters\"].max().replace(\",\",\"\")\n",
    "            if theaters_in_two_weeks == \"-\":\n",
    "                theaters_in_two_weeks = None\n",
    "            else:\n",
    "                theaters_in_two_weeks = int(theaters_in_two_weeks)\n",
    "            avg_BO_two_weeks_sum = first_two_weeks[\"Avg\"].sum()\n",
    "\n",
    "            compiled_weeklies.append([fake_name, real_name, num_above_cutoff, theaters_in_two_weeks, avg_BO_two_weeks_sum])\n",
    "    return pd.DataFrame(data=compiled_weeklies, columns=[\"REAL name\", \"index_name\", \"Longevity\", \"2 wk Theaters\", \"2 wk Box Office\"])\n",
    "\n",
    "\n",
    "#Metric of 800 dollars selected. On average, movies drop below 800 dollars weekly per-theater after 8 weeks. \n",
    "weeks_to_dropoff_df = weeks_above_cutoff(800, weeklies, 4)\n",
    "merged = weeks_to_dropoff_df.merge(movielibrary, how=\"left\").merge(imdb, how=\"left\")"
   ]
  },
  {
   "cell_type": "code",
   "execution_count": 14,
   "metadata": {},
   "outputs": [
    {
     "data": {
      "text/plain": [
       "Text(3.674999999999997, 0.5, 'Count')"
      ]
     },
     "execution_count": 14,
     "metadata": {},
     "output_type": "execute_result"
    },
    {
     "data": {
      "text/plain": [
       "<Figure size 216x216 with 0 Axes>"
      ]
     },
     "metadata": {},
     "output_type": "display_data"
    },
    {
     "data": {
      "image/png": "[encoded data removed]",
      "text/plain": [
       "<Figure size 360x360 with 1 Axes>"
      ]
     },
     "metadata": {
      "needs_background": "light"
     },
     "output_type": "display_data"
    }
   ],
   "source": [
    "friendlyred = '#d57d8d'\n",
    "\n",
    "#Remove outliers that can be iedentified early\n",
    "merged = merged[merged[\"Longevity\"]<40]\n",
    "plt.figure(figsize=(3,3))\n",
    "sns.displot(data=merged, x=\"Longevity\", color=friendlyred, bins=34)\n",
    "plt.xlabel(\"Longevity\", fontsize=\"x-large\")\n",
    "plt.ylabel(\"Count\", fontsize=\"x-large\")"
   ]
  },
  {
   "cell_type": "code",
   "execution_count": 15,
   "metadata": {},
   "outputs": [
    {
     "data": {
      "text/plain": [
       "Text(3.674999999999997, 0.5, 'Count')"
      ]
     },
     "execution_count": 15,
     "metadata": {},
     "output_type": "execute_result"
    },
    {
     "data": {
      "text/plain": [
       "<Figure size 216x216 with 0 Axes>"
      ]
     },
     "metadata": {},
     "output_type": "display_data"
    },
    {
     "data": {
      "image/png": "[encoded data removed]",
      "text/plain": [
       "<Figure size 360x360 with 1 Axes>"
      ]
     },
     "metadata": {
      "needs_background": "light"
     },
     "output_type": "display_data"
    }
   ],
   "source": [
    "#Because longevity is a heavily skewed metric, I correct it with a boxcox transformation.\n",
    "\n",
    "plt.figure(figsize=(3,3))\n",
    "merged[\"Boxcox Longevity\"], lamb = scp.boxcox(merged[\"Longevity\"]+0.001)\n",
    "sns.displot(data=merged, x=\"Boxcox Longevity\", color=friendlyred, bins=40)\n",
    "plt.xlabel(\"Boxcox Longevity\", fontsize=\"x-large\")\n",
    "plt.ylabel(\"Count\", fontsize=\"x-large\")"
   ]
  },
  {
   "cell_type": "code",
   "execution_count": 32,
   "metadata": {},
   "outputs": [
    {
     "data": {
      "text/html": [
       "<div>\n",
       "<style scoped>\n",
       "    .dataframe tbody tr th:only-of-type {\n",
       "        vertical-align: middle;\n",
       "    }\n",
       "\n",
       "    .dataframe tbody tr th {\n",
       "        vertical-align: top;\n",
       "    }\n",
       "\n",
       "    .dataframe thead th {\n",
       "        text-align: right;\n",
       "    }\n",
       "</style>\n",
       "<table border=\"1\" class=\"dataframe\">\n",
       "  <thead>\n",
       "    <tr style=\"text-align: right;\">\n",
       "      <th></th>\n",
       "      <th>REAL name</th>\n",
       "      <th>index_name</th>\n",
       "      <th>Longevity</th>\n",
       "      <th>2 wk Theaters</th>\n",
       "      <th>2 wk Box Office</th>\n",
       "      <th>index</th>\n",
       "      <th>Budget</th>\n",
       "      <th>MPAA</th>\n",
       "      <th>Genres</th>\n",
       "      <th>Domestic Opening</th>\n",
       "      <th>...</th>\n",
       "      <th>Sport</th>\n",
       "      <th>Thriller</th>\n",
       "      <th>War</th>\n",
       "      <th>Western</th>\n",
       "      <th>Release Date</th>\n",
       "      <th>Metacritic Critic Score</th>\n",
       "      <th>Director</th>\n",
       "      <th>Cast</th>\n",
       "      <th>IMDB's Budget</th>\n",
       "      <th>Boxcox Longevity</th>\n",
       "    </tr>\n",
       "  </thead>\n",
       "  <tbody>\n",
       "    <tr>\n",
       "      <th>0</th>\n",
       "      <td>Rebel Without a Cause2018 Re-release</td>\n",
       "      <td>The Final Year</td>\n",
       "      <td>4</td>\n",
       "      <td>39.0</td>\n",
       "      <td>4213</td>\n",
       "      <td>1857.0</td>\n",
       "      <td>None</td>\n",
       "      <td>None</td>\n",
       "      <td>{, Family, Adventure, Action, Fantasy}</td>\n",
       "      <td>None</td>\n",
       "      <td>...</td>\n",
       "      <td>False</td>\n",
       "      <td>False</td>\n",
       "      <td>False</td>\n",
       "      <td>False</td>\n",
       "      <td>None</td>\n",
       "      <td>51.0</td>\n",
       "      <td>Soi Cheang</td>\n",
       "      <td>[\\n Aaron Kwok\\n , \\n Shaofeng Feng\\n , \\n Zan...</td>\n",
       "      <td>\\nBudget:$73,000,000\\n            (estimated)\\n</td>\n",
       "      <td>1.899621</td>\n",
       "    </tr>\n",
       "    <tr>\n",
       "      <th>1</th>\n",
       "      <td>Mustang</td>\n",
       "      <td>Sleeping with Other People</td>\n",
       "      <td>3</td>\n",
       "      <td>5.0</td>\n",
       "      <td>27635</td>\n",
       "      <td>519.0</td>\n",
       "      <td>None</td>\n",
       "      <td>PG</td>\n",
       "      <td>{, Documentary, Music}</td>\n",
       "      <td>None</td>\n",
       "      <td>...</td>\n",
       "      <td>False</td>\n",
       "      <td>False</td>\n",
       "      <td>False</td>\n",
       "      <td>False</td>\n",
       "      <td>None</td>\n",
       "      <td>67.0</td>\n",
       "      <td>Denny Tedesco</td>\n",
       "      <td>[\\n Denny Tedesco\\n , \\n Brian Wilson\\n , \\n D...</td>\n",
       "      <td>None</td>\n",
       "      <td>1.406972</td>\n",
       "    </tr>\n",
       "    <tr>\n",
       "      <th>2</th>\n",
       "      <td>She's Funny That Way</td>\n",
       "      <td>1915</td>\n",
       "      <td>9</td>\n",
       "      <td>9.0</td>\n",
       "      <td>6500</td>\n",
       "      <td>NaN</td>\n",
       "      <td>NaN</td>\n",
       "      <td>NaN</td>\n",
       "      <td>NaN</td>\n",
       "      <td>NaN</td>\n",
       "      <td>...</td>\n",
       "      <td>NaN</td>\n",
       "      <td>NaN</td>\n",
       "      <td>NaN</td>\n",
       "      <td>NaN</td>\n",
       "      <td>NaN</td>\n",
       "      <td>NaN</td>\n",
       "      <td>NaN</td>\n",
       "      <td>NaN</td>\n",
       "      <td>NaN</td>\n",
       "      <td>3.668830</td>\n",
       "    </tr>\n",
       "    <tr>\n",
       "      <th>3</th>\n",
       "      <td>Sorry to Bother You</td>\n",
       "      <td>Mortal Engines</td>\n",
       "      <td>2</td>\n",
       "      <td>3103.0</td>\n",
       "      <td>4399</td>\n",
       "      <td>NaN</td>\n",
       "      <td>NaN</td>\n",
       "      <td>NaN</td>\n",
       "      <td>NaN</td>\n",
       "      <td>NaN</td>\n",
       "      <td>...</td>\n",
       "      <td>NaN</td>\n",
       "      <td>NaN</td>\n",
       "      <td>NaN</td>\n",
       "      <td>NaN</td>\n",
       "      <td>NaN</td>\n",
       "      <td>NaN</td>\n",
       "      <td>NaN</td>\n",
       "      <td>NaN</td>\n",
       "      <td>NaN</td>\n",
       "      <td>0.808953</td>\n",
       "    </tr>\n",
       "    <tr>\n",
       "      <th>4</th>\n",
       "      <td>Love on the Cloud</td>\n",
       "      <td>Love on the Cloud</td>\n",
       "      <td>5</td>\n",
       "      <td>17.0</td>\n",
       "      <td>12701</td>\n",
       "      <td>158.0</td>\n",
       "      <td>None</td>\n",
       "      <td>None</td>\n",
       "      <td>{Comedy}</td>\n",
       "      <td>None</td>\n",
       "      <td>...</td>\n",
       "      <td>False</td>\n",
       "      <td>False</td>\n",
       "      <td>False</td>\n",
       "      <td>False</td>\n",
       "      <td>None</td>\n",
       "      <td>NaN</td>\n",
       "      <td>Changwei Gu</td>\n",
       "      <td>None</td>\n",
       "      <td>None</td>\n",
       "      <td>2.326297</td>\n",
       "    </tr>\n",
       "    <tr>\n",
       "      <th>...</th>\n",
       "      <td>...</td>\n",
       "      <td>...</td>\n",
       "      <td>...</td>\n",
       "      <td>...</td>\n",
       "      <td>...</td>\n",
       "      <td>...</td>\n",
       "      <td>...</td>\n",
       "      <td>...</td>\n",
       "      <td>...</td>\n",
       "      <td>...</td>\n",
       "      <td>...</td>\n",
       "      <td>...</td>\n",
       "      <td>...</td>\n",
       "      <td>...</td>\n",
       "      <td>...</td>\n",
       "      <td>...</td>\n",
       "      <td>...</td>\n",
       "      <td>...</td>\n",
       "      <td>...</td>\n",
       "      <td>...</td>\n",
       "      <td>...</td>\n",
       "    </tr>\n",
       "    <tr>\n",
       "      <th>2045</th>\n",
       "      <td>The Breadwinner</td>\n",
       "      <td>Happy End</td>\n",
       "      <td>9</td>\n",
       "      <td>3.0</td>\n",
       "      <td>23197</td>\n",
       "      <td>1379.0</td>\n",
       "      <td>None</td>\n",
       "      <td>R</td>\n",
       "      <td>{Comedy}</td>\n",
       "      <td>None</td>\n",
       "      <td>...</td>\n",
       "      <td>False</td>\n",
       "      <td>False</td>\n",
       "      <td>False</td>\n",
       "      <td>False</td>\n",
       "      <td>None</td>\n",
       "      <td>43.0</td>\n",
       "      <td>Lake Bell</td>\n",
       "      <td>None</td>\n",
       "      <td>None</td>\n",
       "      <td>3.668830</td>\n",
       "    </tr>\n",
       "    <tr>\n",
       "      <th>2046</th>\n",
       "      <td>Little Italy</td>\n",
       "      <td>The Miseducation of Cameron Post</td>\n",
       "      <td>8</td>\n",
       "      <td>25.0</td>\n",
       "      <td>44890</td>\n",
       "      <td>1766.0</td>\n",
       "      <td>None</td>\n",
       "      <td>None</td>\n",
       "      <td>{, Romance, Drama}</td>\n",
       "      <td>None</td>\n",
       "      <td>...</td>\n",
       "      <td>False</td>\n",
       "      <td>False</td>\n",
       "      <td>False</td>\n",
       "      <td>False</td>\n",
       "      <td>None</td>\n",
       "      <td>74.0</td>\n",
       "      <td>Ofir Raul Graizer</td>\n",
       "      <td>[\\n Tim Kalkhof\\n , \\n Sarah Adler\\n , \\n Roy ...</td>\n",
       "      <td>None</td>\n",
       "      <td>3.371784</td>\n",
       "    </tr>\n",
       "    <tr>\n",
       "      <th>2047</th>\n",
       "      <td>Infliction</td>\n",
       "      <td>Infliction</td>\n",
       "      <td>3</td>\n",
       "      <td>1.0</td>\n",
       "      <td>816</td>\n",
       "      <td>350.0</td>\n",
       "      <td>None</td>\n",
       "      <td>None</td>\n",
       "      <td>{Horror}</td>\n",
       "      <td>None</td>\n",
       "      <td>...</td>\n",
       "      <td>False</td>\n",
       "      <td>False</td>\n",
       "      <td>False</td>\n",
       "      <td>False</td>\n",
       "      <td>None</td>\n",
       "      <td>NaN</td>\n",
       "      <td>Jack Thomas Smith</td>\n",
       "      <td>[\\n Jason Mac\\n , \\n Elliott Armstrong\\n , \\n ...</td>\n",
       "      <td>None</td>\n",
       "      <td>1.406972</td>\n",
       "    </tr>\n",
       "    <tr>\n",
       "      <th>2048</th>\n",
       "      <td>The Shape of Water</td>\n",
       "      <td>The Shack</td>\n",
       "      <td>10</td>\n",
       "      <td>2888.0</td>\n",
       "      <td>12632</td>\n",
       "      <td>1225.0</td>\n",
       "      <td>None</td>\n",
       "      <td>R</td>\n",
       "      <td>{, Comedy, Crime, Drama}</td>\n",
       "      <td>None</td>\n",
       "      <td>...</td>\n",
       "      <td>False</td>\n",
       "      <td>False</td>\n",
       "      <td>False</td>\n",
       "      <td>False</td>\n",
       "      <td>None</td>\n",
       "      <td>88.0</td>\n",
       "      <td>Martin McDonagh</td>\n",
       "      <td>[\\n Frances McDormand\\n , \\n Caleb Landry Jone...</td>\n",
       "      <td>\\nBudget:$15,000,000\\n            (estimated)\\n</td>\n",
       "      <td>3.947681</td>\n",
       "    </tr>\n",
       "    <tr>\n",
       "      <th>2049</th>\n",
       "      <td>Detective Byomkesh Bakshy!</td>\n",
       "      <td>Freeheld</td>\n",
       "      <td>6</td>\n",
       "      <td>51.0</td>\n",
       "      <td>12683</td>\n",
       "      <td>NaN</td>\n",
       "      <td>NaN</td>\n",
       "      <td>NaN</td>\n",
       "      <td>NaN</td>\n",
       "      <td>NaN</td>\n",
       "      <td>...</td>\n",
       "      <td>NaN</td>\n",
       "      <td>NaN</td>\n",
       "      <td>NaN</td>\n",
       "      <td>NaN</td>\n",
       "      <td>NaN</td>\n",
       "      <td>NaN</td>\n",
       "      <td>NaN</td>\n",
       "      <td>NaN</td>\n",
       "      <td>NaN</td>\n",
       "      <td>2.706829</td>\n",
       "    </tr>\n",
       "  </tbody>\n",
       "</table>\n",
       "<p>2048 rows × 42 columns</p>\n",
       "</div>"
      ],
      "text/plain": [
       "                                 REAL name                        index_name  \\\n",
       "0     Rebel Without a Cause2018 Re-release                    The Final Year   \n",
       "1                                  Mustang        Sleeping with Other People   \n",
       "2                     She's Funny That Way                              1915   \n",
       "3                      Sorry to Bother You                    Mortal Engines   \n",
       "4                        Love on the Cloud                 Love on the Cloud   \n",
       "...                                    ...                               ...   \n",
       "2045                       The Breadwinner                         Happy End   \n",
       "2046                          Little Italy  The Miseducation of Cameron Post   \n",
       "2047                            Infliction                        Infliction   \n",
       "2048                    The Shape of Water                         The Shack   \n",
       "2049            Detective Byomkesh Bakshy!                          Freeheld   \n",
       "\n",
       "      Longevity  2 wk Theaters  2 wk Box Office   index Budget  MPAA  \\\n",
       "0             4           39.0             4213  1857.0   None  None   \n",
       "1             3            5.0            27635   519.0   None    PG   \n",
       "2             9            9.0             6500     NaN    NaN   NaN   \n",
       "3             2         3103.0             4399     NaN    NaN   NaN   \n",
       "4             5           17.0            12701   158.0   None  None   \n",
       "...         ...            ...              ...     ...    ...   ...   \n",
       "2045          9            3.0            23197  1379.0   None     R   \n",
       "2046          8           25.0            44890  1766.0   None  None   \n",
       "2047          3            1.0              816   350.0   None  None   \n",
       "2048         10         2888.0            12632  1225.0   None     R   \n",
       "2049          6           51.0            12683     NaN    NaN   NaN   \n",
       "\n",
       "                                      Genres Domestic Opening  ...  Sport  \\\n",
       "0     {, Family, Adventure, Action, Fantasy}             None  ...  False   \n",
       "1                     {, Documentary, Music}             None  ...  False   \n",
       "2                                        NaN              NaN  ...    NaN   \n",
       "3                                        NaN              NaN  ...    NaN   \n",
       "4                                   {Comedy}             None  ...  False   \n",
       "...                                      ...              ...  ...    ...   \n",
       "2045                                {Comedy}             None  ...  False   \n",
       "2046                      {, Romance, Drama}             None  ...  False   \n",
       "2047                                {Horror}             None  ...  False   \n",
       "2048                {, Comedy, Crime, Drama}             None  ...  False   \n",
       "2049                                     NaN              NaN  ...    NaN   \n",
       "\n",
       "     Thriller    War Western Release Date Metacritic Critic Score  \\\n",
       "0       False  False   False         None                    51.0   \n",
       "1       False  False   False         None                    67.0   \n",
       "2         NaN    NaN     NaN          NaN                     NaN   \n",
       "3         NaN    NaN     NaN          NaN                     NaN   \n",
       "4       False  False   False         None                     NaN   \n",
       "...       ...    ...     ...          ...                     ...   \n",
       "2045    False  False   False         None                    43.0   \n",
       "2046    False  False   False         None                    74.0   \n",
       "2047    False  False   False         None                     NaN   \n",
       "2048    False  False   False         None                    88.0   \n",
       "2049      NaN    NaN     NaN          NaN                     NaN   \n",
       "\n",
       "               Director                                               Cast  \\\n",
       "0            Soi Cheang  [\\n Aaron Kwok\\n , \\n Shaofeng Feng\\n , \\n Zan...   \n",
       "1         Denny Tedesco  [\\n Denny Tedesco\\n , \\n Brian Wilson\\n , \\n D...   \n",
       "2                   NaN                                                NaN   \n",
       "3                   NaN                                                NaN   \n",
       "4           Changwei Gu                                               None   \n",
       "...                 ...                                                ...   \n",
       "2045          Lake Bell                                               None   \n",
       "2046  Ofir Raul Graizer  [\\n Tim Kalkhof\\n , \\n Sarah Adler\\n , \\n Roy ...   \n",
       "2047  Jack Thomas Smith  [\\n Jason Mac\\n , \\n Elliott Armstrong\\n , \\n ...   \n",
       "2048    Martin McDonagh  [\\n Frances McDormand\\n , \\n Caleb Landry Jone...   \n",
       "2049                NaN                                                NaN   \n",
       "\n",
       "                                        IMDB's Budget Boxcox Longevity  \n",
       "0     \\nBudget:$73,000,000\\n            (estimated)\\n         1.899621  \n",
       "1                                                None         1.406972  \n",
       "2                                                 NaN         3.668830  \n",
       "3                                                 NaN         0.808953  \n",
       "4                                                None         2.326297  \n",
       "...                                               ...              ...  \n",
       "2045                                             None         3.668830  \n",
       "2046                                             None         3.371784  \n",
       "2047                                             None         1.406972  \n",
       "2048  \\nBudget:$15,000,000\\n            (estimated)\\n         3.947681  \n",
       "2049                                              NaN         2.706829  \n",
       "\n",
       "[2048 rows x 42 columns]"
      ]
     },
     "execution_count": 32,
     "metadata": {},
     "output_type": "execute_result"
    }
   ],
   "source": [
    "merged"
   ]
  },
  {
   "cell_type": "code",
   "execution_count": 22,
   "metadata": {},
   "outputs": [],
   "source": [
    "#Dropping data that was processed into dummies, had very few not-NA values, or just not relevant at this time. Some might return if needed.\n",
    "merged_clean = merged[merged[\"Longevity\"]<40].drop(columns=[\"Genres\", \"REAL name\", \"index_name\", \"Running Time\", \"MPAA\", \"Budget\", \"\", \"Domestic Opening\", \"Budget\", 'index'])\n",
    "#\n",
    "#We don't need the actual Target Variable now. \n",
    "merged_clean.drop(columns=[\"Longevity\"])\n",
    "\n",
    "#Directors are way too sparse to be useful. \n",
    "#merged_clean.merge(pd.get_dummies(merged_clean, columns=[\"Director\"]))\n",
    "\n",
    "#These may be used later, if improvement is needed.\n",
    "merged_clean.drop(columns=[\"Director\", \"Cast\"], inplace=True)\n",
    "\n",
    "#removed due to feature engineering\n",
    "merged_clean.drop(columns=[\"Short\", \"Sport\", \"Film-Noir\", \"IMDB's Budget\", \"Metacritic Critic Score\"], inplace=True)\n",
    "merged_clean[\"Family Friendly\"] = (merged_clean[\"Family\"]+merged_clean[\"Fantasy\"])>0\n",
    "merged_clean.drop(columns=[\"Family\", \"Fantasy\"], inplace=True)\n",
    "\n",
    "#Removed due to difficulty in handling and limited use\n",
    "\n",
    "\n",
    "#Small number of these None values, small enough to fill. \n",
    "merged_clean[\"2 wk Theaters\"].fillna(merged_clean[\"2 wk Theaters\"].mean(), inplace=True)\n",
    "merged_clean.dropna(inplace=True)\n",
    "merged_clean[\"Log 2 wk Box Office\"]= np.log(merged_clean[\"2 wk Box Office\"])\n",
    "merged_clean[\"Log 2 wk Theaters\"]= np.log(merged_clean[\"2 wk Theaters\"])\n",
    "\n",
    "#IMDB's budget in too many currencies for me. \n",
    "#merged_clean[\"IMDB's Budget\"]=merged_clean[\"IMDB's Budget\"].apply(lambda x: int(x.replace(\"(estimated)\", \"\").replace(\"Budget:\",\"\").replace(\"$\",\"\").replace(\",\",\"\").replace(\"EUR\",\"\").replace(\"HKD\",\"\").replace(\"INR\",\"\").replace(\"GBP\",\"\").replace(\"DKK\",\"\").replace(\"CNY\",\"\").replace(\"AUD\",\"\").replace(\"CAD\",\"\").replace(\"BRL\",\"\").replace(\"JPY\",\"\").strip()))\n",
    "\n",
    "#For use in polynomial regression.\n",
    "#merged_clean[\"Inverse IMDB's Budget\"]=1/merged_clean[\"IMDB's Budget\"]\n",
    "\n",
    "\n",
    "#Unfortunately impossible to use the release week; the year is cyclic, with pulses at irregular times of the year \n",
    "#(i.e. not evenly spaced.)\n",
    "#Using dummy variables for months kept the model from converging.\n",
    "merged_clean[\"Release Week\"] = merged_clean[\"Release Date\"].apply(lambda x: x.isocalendar()[1])\n",
    "merged_clean.drop(columns=[\"Release Date\"], inplace=True)\n",
    "merged_clean[\"Pre-December\"] = (merged_clean[\"Release Week\"]>48) & (merged_clean[\"Release Week\"]<51)\n",
    "merged_clean[\"Holiday Release\"] = (merged_clean[\"Release Week\"]-2)%52 >49"
   ]
  },
  {
   "cell_type": "code",
   "execution_count": 31,
   "metadata": {},
   "outputs": [
    {
     "data": {
      "text/plain": [
       "<matplotlib.collections.PathCollection at 0x7fa2801ca370>"
      ]
     },
     "execution_count": 31,
     "metadata": {},
     "output_type": "execute_result"
    },
    {
     "data": {
      "image/png": "[encoded data removed]",
      "text/plain": [
       "<Figure size 432x288 with 1 Axes>"
      ]
     },
     "metadata": {
      "needs_background": "light"
     },
     "output_type": "display_data"
    }
   ],
   "source": [
    "plt.scatter(y=merged_clean[\"Boxcox Longevity\"], x=merged_clean[\"Release Week\"])"
   ]
  },
  {
   "cell_type": "code",
   "execution_count": 24,
   "metadata": {},
   "outputs": [
    {
     "data": {
      "text/plain": [
       "<AxesSubplot:>"
      ]
     },
     "execution_count": 24,
     "metadata": {},
     "output_type": "execute_result"
    },
    {
     "data": {
      "image/png": "[encoded data removed]",
      "text/plain": [
       "<Figure size 720x216 with 1 Axes>"
      ]
     },
     "metadata": {
      "needs_background": "light"
     },
     "output_type": "display_data"
    }
   ],
   "source": [
    "plt.figure(figsize=(10, 3))\n",
    "plt.xlim(1,52)\n",
    "sns.lineplot(data=merged_clean, y=\"Longevity\", x=\"Release Week\", color=friendlyred)"
   ]
  },
  {
   "cell_type": "code",
   "execution_count": 25,
   "metadata": {},
   "outputs": [
    {
     "name": "stderr",
     "output_type": "stream",
     "text": [
      "/home/solomon/anaconda3/envs/metis/lib/python3.8/site-packages/seaborn/matrix.py:204: RuntimeWarning: All-NaN slice encountered\n",
      "  vmin = np.nanmin(calc_data)\n",
      "/home/solomon/anaconda3/envs/metis/lib/python3.8/site-packages/seaborn/matrix.py:209: RuntimeWarning: All-NaN slice encountered\n",
      "  vmax = np.nanmax(calc_data)\n"
     ]
    },
    {
     "data": {
      "text/plain": [
       "<AxesSubplot:>"
      ]
     },
     "execution_count": 25,
     "metadata": {},
     "output_type": "execute_result"
    },
    {
     "data": {
      "image/png": "[encoded data removed]",
      "text/plain": [
       "<Figure size 1440x1080 with 2 Axes>"
      ]
     },
     "metadata": {
      "needs_background": "light"
     },
     "output_type": "display_data"
    }
   ],
   "source": [
    "plt.subplots(figsize=(20, 15))\n",
    "sns.heatmap(merged_clean.corr())"
   ]
  },
  {
   "cell_type": "code",
   "execution_count": 26,
   "metadata": {},
   "outputs": [
    {
     "ename": "ValueError",
     "evalue": "Found array with 0 sample(s) (shape=(0, 29)) while a minimum of 1 is required by StandardScaler.",
     "output_type": "error",
     "traceback": [
      "\u001b[0;31m---------------------------------------------------------------------------\u001b[0m",
      "\u001b[0;31mValueError\u001b[0m                                Traceback (most recent call last)",
      "\u001b[0;32m<ipython-input-26-322e85caa4c6>\u001b[0m in \u001b[0;36m<module>\u001b[0;34m\u001b[0m\n\u001b[1;32m     10\u001b[0m \u001b[0ms\u001b[0m \u001b[0;34m=\u001b[0m \u001b[0mStandardScaler\u001b[0m\u001b[0;34m(\u001b[0m\u001b[0;34m)\u001b[0m\u001b[0;34m\u001b[0m\u001b[0;34m\u001b[0m\u001b[0m\n\u001b[1;32m     11\u001b[0m \u001b[0;34m\u001b[0m\u001b[0m\n\u001b[0;32m---> 12\u001b[0;31m \u001b[0mscaled_df\u001b[0m \u001b[0;34m=\u001b[0m \u001b[0mpd\u001b[0m\u001b[0;34m.\u001b[0m\u001b[0mDataFrame\u001b[0m\u001b[0;34m(\u001b[0m\u001b[0mdata\u001b[0m\u001b[0;34m=\u001b[0m\u001b[0ms\u001b[0m\u001b[0;34m.\u001b[0m\u001b[0mfit_transform\u001b[0m\u001b[0;34m(\u001b[0m\u001b[0mmerged_clean\u001b[0m\u001b[0;34m)\u001b[0m\u001b[0;34m,\u001b[0m \u001b[0mcolumns\u001b[0m\u001b[0;34m=\u001b[0m\u001b[0mmerged_clean\u001b[0m\u001b[0;34m.\u001b[0m\u001b[0mcolumns\u001b[0m\u001b[0;34m)\u001b[0m\u001b[0;34m\u001b[0m\u001b[0;34m\u001b[0m\u001b[0m\n\u001b[0m\u001b[1;32m     13\u001b[0m \u001b[0;34m\u001b[0m\u001b[0m\n\u001b[1;32m     14\u001b[0m \u001b[0mbase_features\u001b[0m \u001b[0;34m=\u001b[0m \u001b[0mscaled_df\u001b[0m\u001b[0;34m.\u001b[0m\u001b[0mdrop\u001b[0m\u001b[0;34m(\u001b[0m\u001b[0mcolumns\u001b[0m\u001b[0;34m=\u001b[0m\u001b[0;34m[\u001b[0m\u001b[0;34m\"Boxcox Longevity\"\u001b[0m\u001b[0;34m,\u001b[0m \u001b[0;34m\"Longevity\"\u001b[0m\u001b[0;34m]\u001b[0m\u001b[0;34m)\u001b[0m\u001b[0;34m\u001b[0m\u001b[0;34m\u001b[0m\u001b[0m\n",
      "\u001b[0;32m~/anaconda3/envs/metis/lib/python3.8/site-packages/sklearn/base.py\u001b[0m in \u001b[0;36mfit_transform\u001b[0;34m(self, X, y, **fit_params)\u001b[0m\n\u001b[1;32m    688\u001b[0m         \u001b[0;32mif\u001b[0m \u001b[0my\u001b[0m \u001b[0;32mis\u001b[0m \u001b[0;32mNone\u001b[0m\u001b[0;34m:\u001b[0m\u001b[0;34m\u001b[0m\u001b[0;34m\u001b[0m\u001b[0m\n\u001b[1;32m    689\u001b[0m             \u001b[0;31m# fit method of arity 1 (unsupervised transformation)\u001b[0m\u001b[0;34m\u001b[0m\u001b[0;34m\u001b[0m\u001b[0;34m\u001b[0m\u001b[0m\n\u001b[0;32m--> 690\u001b[0;31m             \u001b[0;32mreturn\u001b[0m \u001b[0mself\u001b[0m\u001b[0;34m.\u001b[0m\u001b[0mfit\u001b[0m\u001b[0;34m(\u001b[0m\u001b[0mX\u001b[0m\u001b[0;34m,\u001b[0m \u001b[0;34m**\u001b[0m\u001b[0mfit_params\u001b[0m\u001b[0;34m)\u001b[0m\u001b[0;34m.\u001b[0m\u001b[0mtransform\u001b[0m\u001b[0;34m(\u001b[0m\u001b[0mX\u001b[0m\u001b[0;34m)\u001b[0m\u001b[0;34m\u001b[0m\u001b[0;34m\u001b[0m\u001b[0m\n\u001b[0m\u001b[1;32m    691\u001b[0m         \u001b[0;32melse\u001b[0m\u001b[0;34m:\u001b[0m\u001b[0;34m\u001b[0m\u001b[0;34m\u001b[0m\u001b[0m\n\u001b[1;32m    692\u001b[0m             \u001b[0;31m# fit method of arity 2 (supervised transformation)\u001b[0m\u001b[0;34m\u001b[0m\u001b[0;34m\u001b[0m\u001b[0;34m\u001b[0m\u001b[0m\n",
      "\u001b[0;32m~/anaconda3/envs/metis/lib/python3.8/site-packages/sklearn/preprocessing/_data.py\u001b[0m in \u001b[0;36mfit\u001b[0;34m(self, X, y)\u001b[0m\n\u001b[1;32m    665\u001b[0m         \u001b[0;31m# Reset internal state before fitting\u001b[0m\u001b[0;34m\u001b[0m\u001b[0;34m\u001b[0m\u001b[0;34m\u001b[0m\u001b[0m\n\u001b[1;32m    666\u001b[0m         \u001b[0mself\u001b[0m\u001b[0;34m.\u001b[0m\u001b[0m_reset\u001b[0m\u001b[0;34m(\u001b[0m\u001b[0;34m)\u001b[0m\u001b[0;34m\u001b[0m\u001b[0;34m\u001b[0m\u001b[0m\n\u001b[0;32m--> 667\u001b[0;31m         \u001b[0;32mreturn\u001b[0m \u001b[0mself\u001b[0m\u001b[0;34m.\u001b[0m\u001b[0mpartial_fit\u001b[0m\u001b[0;34m(\u001b[0m\u001b[0mX\u001b[0m\u001b[0;34m,\u001b[0m \u001b[0my\u001b[0m\u001b[0;34m)\u001b[0m\u001b[0;34m\u001b[0m\u001b[0;34m\u001b[0m\u001b[0m\n\u001b[0m\u001b[1;32m    668\u001b[0m \u001b[0;34m\u001b[0m\u001b[0m\n\u001b[1;32m    669\u001b[0m     \u001b[0;32mdef\u001b[0m \u001b[0mpartial_fit\u001b[0m\u001b[0;34m(\u001b[0m\u001b[0mself\u001b[0m\u001b[0;34m,\u001b[0m \u001b[0mX\u001b[0m\u001b[0;34m,\u001b[0m \u001b[0my\u001b[0m\u001b[0;34m=\u001b[0m\u001b[0;32mNone\u001b[0m\u001b[0;34m)\u001b[0m\u001b[0;34m:\u001b[0m\u001b[0;34m\u001b[0m\u001b[0;34m\u001b[0m\u001b[0m\n",
      "\u001b[0;32m~/anaconda3/envs/metis/lib/python3.8/site-packages/sklearn/preprocessing/_data.py\u001b[0m in \u001b[0;36mpartial_fit\u001b[0;34m(self, X, y)\u001b[0m\n\u001b[1;32m    694\u001b[0m             \u001b[0mTransformer\u001b[0m \u001b[0minstance\u001b[0m\u001b[0;34m.\u001b[0m\u001b[0;34m\u001b[0m\u001b[0;34m\u001b[0m\u001b[0m\n\u001b[1;32m    695\u001b[0m         \"\"\"\n\u001b[0;32m--> 696\u001b[0;31m         X = self._validate_data(X, accept_sparse=('csr', 'csc'),\n\u001b[0m\u001b[1;32m    697\u001b[0m                                 \u001b[0mestimator\u001b[0m\u001b[0;34m=\u001b[0m\u001b[0mself\u001b[0m\u001b[0;34m,\u001b[0m \u001b[0mdtype\u001b[0m\u001b[0;34m=\u001b[0m\u001b[0mFLOAT_DTYPES\u001b[0m\u001b[0;34m,\u001b[0m\u001b[0;34m\u001b[0m\u001b[0;34m\u001b[0m\u001b[0m\n\u001b[1;32m    698\u001b[0m                                 force_all_finite='allow-nan')\n",
      "\u001b[0;32m~/anaconda3/envs/metis/lib/python3.8/site-packages/sklearn/base.py\u001b[0m in \u001b[0;36m_validate_data\u001b[0;34m(self, X, y, reset, validate_separately, **check_params)\u001b[0m\n\u001b[1;32m    418\u001b[0m                     \u001b[0;34mf\"requires y to be passed, but the target y is None.\"\u001b[0m\u001b[0;34m\u001b[0m\u001b[0;34m\u001b[0m\u001b[0m\n\u001b[1;32m    419\u001b[0m                 )\n\u001b[0;32m--> 420\u001b[0;31m             \u001b[0mX\u001b[0m \u001b[0;34m=\u001b[0m \u001b[0mcheck_array\u001b[0m\u001b[0;34m(\u001b[0m\u001b[0mX\u001b[0m\u001b[0;34m,\u001b[0m \u001b[0;34m**\u001b[0m\u001b[0mcheck_params\u001b[0m\u001b[0;34m)\u001b[0m\u001b[0;34m\u001b[0m\u001b[0;34m\u001b[0m\u001b[0m\n\u001b[0m\u001b[1;32m    421\u001b[0m             \u001b[0mout\u001b[0m \u001b[0;34m=\u001b[0m \u001b[0mX\u001b[0m\u001b[0;34m\u001b[0m\u001b[0;34m\u001b[0m\u001b[0m\n\u001b[1;32m    422\u001b[0m         \u001b[0;32melse\u001b[0m\u001b[0;34m:\u001b[0m\u001b[0;34m\u001b[0m\u001b[0;34m\u001b[0m\u001b[0m\n",
      "\u001b[0;32m~/anaconda3/envs/metis/lib/python3.8/site-packages/sklearn/utils/validation.py\u001b[0m in \u001b[0;36minner_f\u001b[0;34m(*args, **kwargs)\u001b[0m\n\u001b[1;32m     70\u001b[0m                           FutureWarning)\n\u001b[1;32m     71\u001b[0m         \u001b[0mkwargs\u001b[0m\u001b[0;34m.\u001b[0m\u001b[0mupdate\u001b[0m\u001b[0;34m(\u001b[0m\u001b[0;34m{\u001b[0m\u001b[0mk\u001b[0m\u001b[0;34m:\u001b[0m \u001b[0marg\u001b[0m \u001b[0;32mfor\u001b[0m \u001b[0mk\u001b[0m\u001b[0;34m,\u001b[0m \u001b[0marg\u001b[0m \u001b[0;32min\u001b[0m \u001b[0mzip\u001b[0m\u001b[0;34m(\u001b[0m\u001b[0msig\u001b[0m\u001b[0;34m.\u001b[0m\u001b[0mparameters\u001b[0m\u001b[0;34m,\u001b[0m \u001b[0margs\u001b[0m\u001b[0;34m)\u001b[0m\u001b[0;34m}\u001b[0m\u001b[0;34m)\u001b[0m\u001b[0;34m\u001b[0m\u001b[0;34m\u001b[0m\u001b[0m\n\u001b[0;32m---> 72\u001b[0;31m         \u001b[0;32mreturn\u001b[0m \u001b[0mf\u001b[0m\u001b[0;34m(\u001b[0m\u001b[0;34m**\u001b[0m\u001b[0mkwargs\u001b[0m\u001b[0;34m)\u001b[0m\u001b[0;34m\u001b[0m\u001b[0;34m\u001b[0m\u001b[0m\n\u001b[0m\u001b[1;32m     73\u001b[0m     \u001b[0;32mreturn\u001b[0m \u001b[0minner_f\u001b[0m\u001b[0;34m\u001b[0m\u001b[0;34m\u001b[0m\u001b[0m\n\u001b[1;32m     74\u001b[0m \u001b[0;34m\u001b[0m\u001b[0m\n",
      "\u001b[0;32m~/anaconda3/envs/metis/lib/python3.8/site-packages/sklearn/utils/validation.py\u001b[0m in \u001b[0;36mcheck_array\u001b[0;34m(array, accept_sparse, accept_large_sparse, dtype, order, copy, force_all_finite, ensure_2d, allow_nd, ensure_min_samples, ensure_min_features, estimator)\u001b[0m\n\u001b[1;32m    648\u001b[0m         \u001b[0mn_samples\u001b[0m \u001b[0;34m=\u001b[0m \u001b[0m_num_samples\u001b[0m\u001b[0;34m(\u001b[0m\u001b[0marray\u001b[0m\u001b[0;34m)\u001b[0m\u001b[0;34m\u001b[0m\u001b[0;34m\u001b[0m\u001b[0m\n\u001b[1;32m    649\u001b[0m         \u001b[0;32mif\u001b[0m \u001b[0mn_samples\u001b[0m \u001b[0;34m<\u001b[0m \u001b[0mensure_min_samples\u001b[0m\u001b[0;34m:\u001b[0m\u001b[0;34m\u001b[0m\u001b[0;34m\u001b[0m\u001b[0m\n\u001b[0;32m--> 650\u001b[0;31m             raise ValueError(\"Found array with %d sample(s) (shape=%s) while a\"\n\u001b[0m\u001b[1;32m    651\u001b[0m                              \u001b[0;34m\" minimum of %d is required%s.\"\u001b[0m\u001b[0;34m\u001b[0m\u001b[0;34m\u001b[0m\u001b[0m\n\u001b[1;32m    652\u001b[0m                              % (n_samples, array.shape, ensure_min_samples,\n",
      "\u001b[0;31mValueError\u001b[0m: Found array with 0 sample(s) (shape=(0, 29)) while a minimum of 1 is required by StandardScaler."
     ]
    }
   ],
   "source": [
    "#Now, the actual analysis aspect.\n",
    "\n",
    "from sklearn.preprocessing import StandardScaler\n",
    "from sklearn.preprocessing import PolynomialFeatures\n",
    "from sklearn.model_selection import train_test_split\n",
    "from sklearn.linear_model import RidgeCV\n",
    "from scipy.special import inv_boxcox\n",
    "from sklearn.metrics import mean_absolute_error\n",
    "\n",
    "s = StandardScaler()\n",
    "\n",
    "scaled_df = pd.DataFrame(data=s.fit_transform(merged_clean), columns=merged_clean.columns)\n",
    "\n",
    "base_features = scaled_df.drop(columns=[\"Boxcox Longevity\", \"Longevity\"])\n",
    "target_var = merged_clean[\"Boxcox Longevity\"]\n",
    "\n",
    "\n",
    "\n",
    "pf = PolynomialFeatures(2, interaction_only = True)\n",
    "p_features = pf.fit_transform(base_features)\n",
    "\n",
    "\n",
    "X_train, X_test, y_train, y_test = train_test_split(base_features, target_var, test_size=0.2, random_state=43)"
   ]
  },
  {
   "cell_type": "code",
   "execution_count": null,
   "metadata": {},
   "outputs": [],
   "source": [
    "\n",
    "ridge = RidgeCV() #max_iter=2000\n",
    "ridge.fit(X_train, y_train)\n",
    "print(ridge.score(X_train, y_train))\n",
    "print(ridge.score(X_test, y_test))"
   ]
  },
  {
   "cell_type": "code",
   "execution_count": 27,
   "metadata": {},
   "outputs": [
    {
     "ename": "NameError",
     "evalue": "name 'y_test' is not defined",
     "output_type": "error",
     "traceback": [
      "\u001b[0;31m---------------------------------------------------------------------------\u001b[0m",
      "\u001b[0;31mNameError\u001b[0m                                 Traceback (most recent call last)",
      "\u001b[0;32m<ipython-input-27-f391ffe69abc>\u001b[0m in \u001b[0;36m<module>\u001b[0;34m\u001b[0m\n\u001b[0;32m----> 1\u001b[0;31m \u001b[0mnum_weeks_real\u001b[0m \u001b[0;34m=\u001b[0m\u001b[0minv_boxcox\u001b[0m\u001b[0;34m(\u001b[0m\u001b[0my_test\u001b[0m\u001b[0;34m,\u001b[0m \u001b[0mlamb\u001b[0m\u001b[0;34m)\u001b[0m\u001b[0;34m\u001b[0m\u001b[0;34m\u001b[0m\u001b[0m\n\u001b[0m\u001b[1;32m      2\u001b[0m \u001b[0mnum_weeks_estimated\u001b[0m \u001b[0;34m=\u001b[0m \u001b[0minv_boxcox\u001b[0m\u001b[0;34m(\u001b[0m\u001b[0mridge\u001b[0m\u001b[0;34m.\u001b[0m\u001b[0mpredict\u001b[0m\u001b[0;34m(\u001b[0m\u001b[0mX_test\u001b[0m\u001b[0;34m)\u001b[0m\u001b[0;34m,\u001b[0m \u001b[0mlamb\u001b[0m\u001b[0;34m)\u001b[0m\u001b[0;34m\u001b[0m\u001b[0;34m\u001b[0m\u001b[0m\n\u001b[1;32m      3\u001b[0m \u001b[0;34m\u001b[0m\u001b[0m\n\u001b[1;32m      4\u001b[0m \u001b[0;34m\u001b[0m\u001b[0m\n\u001b[1;32m      5\u001b[0m \u001b[0mresidual_\u001b[0m \u001b[0;34m=\u001b[0m \u001b[0mnum_weeks_estimated\u001b[0m\u001b[0;34m-\u001b[0m\u001b[0mnum_weeks_real\u001b[0m\u001b[0;34m\u001b[0m\u001b[0;34m\u001b[0m\u001b[0m\n",
      "\u001b[0;31mNameError\u001b[0m: name 'y_test' is not defined"
     ]
    }
   ],
   "source": [
    "\n",
    "num_weeks_real =inv_boxcox(y_test, lamb)\n",
    "num_weeks_estimated = inv_boxcox(ridge.predict(X_test), lamb)\n",
    "\n",
    "\n",
    "residual_ = num_weeks_estimated-num_weeks_real\n",
    "plt.figure(figsize=(6,5))\n",
    "plt.xlim(0, 30)\n",
    "plt.ylim(0, 25)\n",
    "plt.scatter(y=num_weeks_estimated, x=num_weeks_real, color=friendlyred);\n",
    "plt.xlabel(\"Actual Movie Longevity (Weeks)\", fontsize=\"x-large\")\n",
    "plt.ylabel(\"Estimated Movie Longevity (Weeks)\",fontsize=\"x-large\")\n",
    "plt.title(\"Scoring \",fontsize=\"x-large\")"
   ]
  },
  {
   "cell_type": "code",
   "execution_count": 264,
   "metadata": {},
   "outputs": [
    {
     "data": {
      "text/plain": [
       "2.7880174956153403"
      ]
     },
     "execution_count": 264,
     "metadata": {},
     "output_type": "execute_result"
    }
   ],
   "source": [
    "print(mean_absolute_error(num_weeks_real, num_weeks_estimated))"
   ]
  },
  {
   "cell_type": "code",
   "execution_count": 248,
   "metadata": {},
   "outputs": [
    {
     "data": {
      "text/plain": [
       "((array([-3.46794906, -3.22199836, -3.08586493, ...,  3.08586493,\n",
       "          3.22199836,  3.46794906]),\n",
       "  array([-2.18040463, -2.18040463, -2.18040463, ...,  8.51553848,\n",
       "          8.51553848,  8.51553848])),\n",
       " (1.7202354269429736, 3.1671581683091956, 0.9946343465640367))"
      ]
     },
     "execution_count": 248,
     "metadata": {},
     "output_type": "execute_result"
    },
    {
     "data": {
      "image/png": "[encoded data removed]",
      "text/plain": [
       "<Figure size 432x288 with 1 Axes>"
      ]
     },
     "metadata": {
      "needs_background": "light"
     },
     "output_type": "display_data"
    }
   ],
   "source": [
    "scp.probplot(merged_clean[\"Boxcox Longevity\"], dist=\"norm\", plot=plt)"
   ]
  },
  {
   "cell_type": "code",
   "execution_count": 232,
   "metadata": {},
   "outputs": [
    {
     "data": {
      "text/plain": [
       "array([['1', '0.3957797750354817'],\n",
       "       ['2 wk Theaters', '-0.018538653138823802'],\n",
       "       ['2 wk Box Office', '-0.01358286465409897'],\n",
       "       ['Action', '0.016607541510822887'],\n",
       "       ['Adventure', '0.0010716123021143886'],\n",
       "       ['Animation', '0.06884016709841823'],\n",
       "       ['Biography', '0.03329869400741106'],\n",
       "       ['Comedy', '-0.02115124001161628'],\n",
       "       ['Crime', '-0.06092135125114062'],\n",
       "       ['Documentary', '-0.08233095535463353'],\n",
       "       ['Drama', '0.028965459791534087'],\n",
       "       ['History', '-0.06585141854756138'],\n",
       "       ['Horror', '0.01186819316252119'],\n",
       "       ['Music', '-0.007858036466313223'],\n",
       "       ['Musical', '0.004885725979467237'],\n",
       "       ['Mystery', '-0.039531535342684554'],\n",
       "       ['News', '-0.055978113328516876'],\n",
       "       ['Romance', '-0.05606188953836222'],\n",
       "       ['Sci-Fi', '0.044533052364185366'],\n",
       "       ['Thriller', '0.03786601327214267'],\n",
       "       ['War', '-0.02654468425013823'],\n",
       "       ['Western', '0.04367938209434219'],\n",
       "       ['G', '-0.018125304972338083'],\n",
       "       ['NC-17', '0.05289573759263044'],\n",
       "       ['Not Rated', '0.09719764468631897'],\n",
       "       ['PG', '0.07379993440603971'],\n",
       "       ['TV-PG', '0.07300354128159237'],\n",
       "       ['Metacritic Critic Score', '-0.008283342412511718'],\n",
       "       ['Family Friendly', '1.1076014682480861'],\n",
       "       ['Log 2 wk Box Office', '-0.023487754185636867'],\n",
       "       ['Log 2 wk Theaters', '-0.0028536592946935'],\n",
       "       ['Release Week', '-0.07207767623857775'],\n",
       "       ['Pre-December', '0.0456867252658717']], dtype='<U23')"
      ]
     },
     "execution_count": 232,
     "metadata": {},
     "output_type": "execute_result"
    }
   ],
   "source": [
    "np.array(list(zip(pf.get_feature_names(base_features.columns), ridge.coef_)))[abs(ridge.coef_)>0.0000001]"
   ]
  }
 ],
 "metadata": {
  "kernelspec": {
   "display_name": "Python 3",
   "language": "python",
   "name": "python3"
  },
  "language_info": {
   "codemirror_mode": {
    "name": "ipython",
    "version": 3
   },
   "file_extension": ".py",
   "mimetype": "text/x-python",
   "name": "python",
   "nbconvert_exporter": "python",
   "pygments_lexer": "ipython3",
   "version": "3.8.5"
  }
 },
 "nbformat": 4,
 "nbformat_minor": 4
}
